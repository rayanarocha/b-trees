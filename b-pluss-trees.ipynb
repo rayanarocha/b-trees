{
 "cells": [
  {
   "cell_type": "code",
   "execution_count": null,
   "metadata": {},
   "outputs": [],
   "source": [
    "class NodoArvore:\n",
    "    def __init__(self, chave=None, esquerda=None, direita=None):\n",
    "        self.chave = chave\n",
    "        self.esquerda = esquerda\n",
    "        self.direita = direita\n",
    "\n",
    "    def __repr__(self):\n",
    "        return '%s <- %s -> %s' % (self.esquerda and self.esquerda.chave,\n",
    "                                    self.chave,\n",
    "                                    self.direita and self.direita.chave)"
   ]
  },
  {
   "cell_type": "code",
   "execution_count": null,
   "metadata": {},
   "outputs": [],
   "source": [
    "raiz = NodoArvore(3)\n",
    "raiz.esquerda = NodoArvore(5)\n",
    "raiz.direita  = NodoArvore(1)\n",
    "print(\"Árvore: \", raiz)"
   ]
  },
  {
   "cell_type": "code",
   "execution_count": null,
   "metadata": {},
   "outputs": [],
   "source": [
    "raiz = NodoArvore(40)\n",
    "\n",
    "raiz.esquerda = NodoArvore(20)\n",
    "raiz.direita  = NodoArvore(60)\n",
    "\n",
    "raiz.direita.esquerda  = NodoArvore(50)\n",
    "raiz.direita.direita   = NodoArvore(70)\n",
    "raiz.esquerda.esquerda = NodoArvore(10)\n",
    "raiz.esquerda.direita  = NodoArvore(30)"
   ]
  },
  {
   "cell_type": "code",
   "execution_count": null,
   "metadata": {},
   "outputs": [],
   "source": [
    "def em_ordem(raiz):\n",
    "    if not raiz:\n",
    "        return\n",
    "\n",
    "    # Visita filho da esquerda.\n",
    "    em_ordem(raiz.esquerda)\n",
    "\n",
    "    # Visita nodo corrente.\n",
    "    print(raiz.chave),\n",
    "\n",
    "    # Visita filho da direita.\n",
    "    em_ordem(raiz.direita)"
   ]
  },
  {
   "cell_type": "code",
   "execution_count": null,
   "metadata": {},
   "outputs": [],
   "source": [
    "em_ordem(raiz)"
   ]
  },
  {
   "cell_type": "code",
   "execution_count": null,
   "metadata": {},
   "outputs": [],
   "source": [
    "def insere(raiz, nodo):\n",
    "    \"\"\"Insere um nodo em uma árvore binária de pesquisa.\"\"\"\n",
    "    # Nodo deve ser inserido na raiz.\n",
    "    if raiz is None:\n",
    "        raiz = nodo\n",
    "\n",
    "    # Nodo deve ser inserido na subárvore direita.\n",
    "    elif raiz.chave < nodo.chave:\n",
    "        if raiz.direita is None:\n",
    "            raiz.direita = nodo\n",
    "        else:\n",
    "            insere(raiz.direita, nodo)\n",
    "\n",
    "    # Nodo deve ser inserido na subárvore esquerda.\n",
    "    else:\n",
    "        if raiz.esquerda is None:\n",
    "            raiz.esquerda = nodo\n",
    "        else:\n",
    "            insere(raiz.esquerda, nodo)"
   ]
  },
  {
   "cell_type": "code",
   "execution_count": null,
   "metadata": {},
   "outputs": [],
   "source": [
    "# Cria uma árvore binária de pesquisa.\n",
    "raiz = NodoArvore(40)\n",
    "for chave in [20, 60, 50, 70, 10, 30]:\n",
    "    nodo = NodoArvore(chave)\n",
    "    insere(raiz, nodo)\n",
    "# Imprime o caminhamento em ordem da árvore.\n",
    "em_ordem(raiz)"
   ]
  },
  {
   "cell_type": "code",
   "execution_count": null,
   "metadata": {},
   "outputs": [],
   "source": [
    "def busca(raiz, chave):\n",
    "    \"\"\"Procura por uma chave em uma árvore binária de pesquisa.\"\"\"\n",
    "    # Trata o caso em que a chave procurada não está presente.\n",
    "    if raiz is None:\n",
    "        return None\n",
    "\n",
    "    # A chave procurada está na raiz da árvore.\n",
    "    if raiz.chave == chave:\n",
    "        return raiz\n",
    "\n",
    "    # A chave procurada é maior que a da raiz.\n",
    "    if raiz.chave < chave:\n",
    "        return busca(raiz.direita, chave)\n",
    "\n",
    "    # A chave procurada é menor que a da raiz.\n",
    "    return busca(raiz.esquerda, chave)"
   ]
  },
  {
   "cell_type": "code",
   "execution_count": null,
   "metadata": {},
   "outputs": [],
   "source": [
    "# Cria uma árvore binária de pesquisa.\n",
    "raiz = NodoArvore(40)\n",
    "for chave in [20, 60, 50, 70, 10, 30]:\n",
    "    nodo = NodoArvore(chave)\n",
    "    insere(raiz, nodo)\n",
    "\n",
    "# Procura por valores na árvore.\n",
    "for chave in [-50, 10, 30, 70, 100]:\n",
    "    resultado = busca(raiz, chave)\n",
    "    if resultado:\n",
    "        print(\"Busca pela chave {}: Sucesso!\".format(chave))\n",
    "    else:\n",
    "        print(\"Busca pela chave {}: Falha!\".format(chave))"
   ]
  }
 ],
 "metadata": {
  "kernelspec": {
   "display_name": "Python 3.10.7 64-bit",
   "language": "python",
   "name": "python3"
  },
  "language_info": {
   "codemirror_mode": {
    "name": "ipython",
    "version": 3
   },
   "file_extension": ".py",
   "mimetype": "text/x-python",
   "name": "python",
   "nbconvert_exporter": "python",
   "pygments_lexer": "ipython3",
   "version": "3.10.7"
  },
  "orig_nbformat": 4,
  "vscode": {
   "interpreter": {
    "hash": "334657c8e52fd71d95571d4aa266536ecfae8b05cb25ba6557c72dcb65d7c56a"
   }
  }
 },
 "nbformat": 4,
 "nbformat_minor": 2
}
